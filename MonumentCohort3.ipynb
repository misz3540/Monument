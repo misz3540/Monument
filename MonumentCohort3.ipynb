{
 "cells": [
  {
   "cell_type": "code",
   "execution_count": null,
   "metadata": {},
   "outputs": [],
   "source": [
    "import pandas as pd\n",
    "import datetime as dt\n",
    "import numpy as np\n",
    "import matplotlib.pyplot as plt\n",
    "import matplotlib as mpl\n",
    "import math\n",
    "\n",
    "pd.set_option('max_columns', 50)\n",
    "mpl.rcParams['lines.linewidth'] = 2\n",
    "\n",
    "%matplotlib inline\n",
    "\n",
    "df = pd.read_excel('MonumentUserData2.xlsx')\n",
    "print(len(df))\n",
    "df.head()\n",
    "#len(df)"
   ]
  },
  {
   "cell_type": "code",
   "execution_count": null,
   "metadata": {},
   "outputs": [],
   "source": [
    "df = df.drop_duplicates()\n",
    "df=df[pd.to_numeric(df['cnt'], errors='coerce').notnull()]\n",
    "print(len(df))"
   ]
  },
  {
   "cell_type": "code",
   "execution_count": null,
   "metadata": {},
   "outputs": [],
   "source": [
    "df2=pd.DataFrame()\n",
    "dateParts=pd.DataFrame()\n",
    "df2['actDate'] = df['activated']\n",
    "df2['WrongDate'] = pd.to_datetime(df2['actDate'].astype(str),errors='coerce',format='%Y-%m-%d')\n",
    "dateParts['year']=df2['WrongDate'].map(lambda x: 2000+x.day)\n",
    "dateParts['month']=df2['WrongDate'].map(lambda x: x.month)\n",
    "dateParts['day']=df2['WrongDate'].map(lambda x: 1)\n",
    "df['activated'] = pd.to_datetime(dateParts,format='%Y-%m').dt.strftime('%Y-%m')\n",
    "\n",
    "df2=pd.DataFrame()\n",
    "dateParts=pd.DataFrame()\n",
    "df2['useDate'] = df['month']\n",
    "df2['WrongDate'] = pd.to_datetime(df2['useDate'].astype(str),errors='coerce',format='%Y-%m-%d')\n",
    "dateParts['year']=df2['WrongDate'].map(lambda x: 2000+x.day)\n",
    "dateParts['month']=df2['WrongDate'].map(lambda x: x.month)\n",
    "dateParts['day']=df2['WrongDate'].map(lambda x: 1)\n",
    "df['month'] = pd.to_datetime(dateParts,format='%Y-%m').dt.strftime('%Y-%m')\n",
    "df.head()\n"
   ]
  },
  {
   "cell_type": "code",
   "execution_count": null,
   "metadata": {},
   "outputs": [],
   "source": [
    "grouped01 = df.groupby(['activated'])\n",
    "# count the unique users per cohort\n",
    "SizePerCohort = grouped01.agg({'user_id':pd.Series.nunique})\n",
    "SizePerCohort.rename(columns={'user_id': 'Size'}, inplace=True)\n",
    "SizePerCohort=SizePerCohort['Size'].groupby(level=0).first()\n",
    "SizePerCohort.head()\n",
    "#len(SizePerCohort)"
   ]
  },
  {
   "cell_type": "code",
   "execution_count": null,
   "metadata": {},
   "outputs": [],
   "source": [
    "grouped = df.groupby(['activated', 'month'])\n",
    "# count the unique users, orders, and total activities per Group \n",
    "cohorts = grouped.agg({'user_id':pd.Series.nunique,\n",
    "                      'cnt':np.sum})\n",
    "cohorts.rename(columns={'user_id': 'TotalUsers'}, inplace=True)\n",
    "cohorts['Ave Act/User']=round(cohorts.cnt/cohorts.TotalUsers)\n",
    "# reindex the DataFrame\n",
    "#cohorts.reset_index(inplace=True)\n",
    "cohorts.head(12)"
   ]
  },
  {
   "cell_type": "code",
   "execution_count": null,
   "metadata": {},
   "outputs": [],
   "source": [
    "cohorts['TotalUsers'].unstack(0).head(12)"
   ]
  },
  {
   "cell_type": "code",
   "execution_count": null,
   "metadata": {},
   "outputs": [],
   "source": [
    "user_retention = cohorts['TotalUsers'].unstack(0).divide(SizePerCohort, axis=1)\n",
    "user_retention.head(17)"
   ]
  },
  {
   "cell_type": "code",
   "execution_count": null,
   "metadata": {},
   "outputs": [],
   "source": [
    "retention_ave=[]\n",
    "retention_ave=user_retention.iloc[:,range(0,2)].mean(axis=1)\n",
    "# retention_ave=user_retention.iloc[:,[0]].mean(axis=1)#.transpose()\n",
    "for i in range(1,9):\n",
    "    retention_ave2=user_retention.iloc[:,range(4*i-2,4*i+2)].mean(axis=1)\n",
    "    retention_ave=pd.concat([retention_ave, retention_ave2.rename('Q'+str(i))], axis=1)\n",
    "retention_ave.iloc[:,0:7].plot(figsize=(10,5))\n",
    "plt.title('Cohorts: User Retention [averaged over trimesterly cohorts]')\n",
    "plt.ylim(0, 1.1)\n",
    "plt.ylabel('% of Cohort Purchasing')\n",
    "print(retention_ave)\n",
    "# #pd.concat([retention_ave, retention_ave2], axis=1)"
   ]
  },
  {
   "cell_type": "code",
   "execution_count": null,
   "metadata": {},
   "outputs": [],
   "source": [
    "retention_ave3=[]\n",
    "retention_ave3=user_retention.iloc[:,range(0,24)].mean(axis=1)\n",
    "retention_ave3.plot(figsize=(10,5))\n",
    "plt.title('Cohorts: Average User Retention')\n",
    "plt.ylim(0, 1.1)\n",
    "plt.ylabel('% of Cohort Purchasing')"
   ]
  },
  {
   "cell_type": "code",
   "execution_count": null,
   "metadata": {},
   "outputs": [],
   "source": [
    "user_activity=cohorts['Ave Act/User'].unstack(0)\n",
    "user_activity.head()"
   ]
  },
  {
   "cell_type": "code",
   "execution_count": null,
   "metadata": {},
   "outputs": [],
   "source": [
    "activity_ave3=[]\n",
    "activity_ave3=user_activity.iloc[:,range(0,24)].mean(axis=1)#.transpose()\n",
    "\n",
    "activity_ave3.plot(figsize=(10,5))\n",
    "plt.title('Cohorts: Average Activity')\n",
    "plt.ylim(0, 1000)\n",
    "plt.ylabel('Average activities')\n",
    "#plt.legend('')"
   ]
  },
  {
   "cell_type": "code",
   "execution_count": null,
   "metadata": {},
   "outputs": [],
   "source": [
    "activity_ave=[]\n",
    "activity_ave=user_activity.iloc[:,range(0,2)].mean(axis=1)#.transpose()\n",
    "for i in range(1,9):\n",
    "    activity_ave2=user_activity.iloc[:,range(4*i-2,4*i+2)].mean(axis=1)\n",
    "    activity_ave=pd.concat([activity_ave, activity_ave2.rename('Q'+str(i))], axis=1)\n",
    "activity_ave.iloc[:,0:7].plot(figsize=(10,5))\n",
    "plt.title('Cohorts: Activity averaged over trimesterly cohorts')\n",
    "#plt.ylim(0, 1.1)\n",
    "plt.ylabel('Average activities')"
   ]
  },
  {
   "cell_type": "code",
   "execution_count": null,
   "metadata": {},
   "outputs": [],
   "source": []
  },
  {
   "cell_type": "code",
   "execution_count": null,
   "metadata": {},
   "outputs": [],
   "source": []
  },
  {
   "cell_type": "code",
   "execution_count": null,
   "metadata": {},
   "outputs": [],
   "source": []
  },
  {
   "cell_type": "code",
   "execution_count": null,
   "metadata": {},
   "outputs": [],
   "source": []
  },
  {
   "cell_type": "code",
   "execution_count": null,
   "metadata": {},
   "outputs": [],
   "source": []
  },
  {
   "cell_type": "code",
   "execution_count": null,
   "metadata": {},
   "outputs": [],
   "source": []
  },
  {
   "cell_type": "code",
   "execution_count": null,
   "metadata": {},
   "outputs": [],
   "source": []
  },
  {
   "cell_type": "code",
   "execution_count": null,
   "metadata": {},
   "outputs": [],
   "source": []
  },
  {
   "cell_type": "code",
   "execution_count": null,
   "metadata": {},
   "outputs": [],
   "source": []
  },
  {
   "cell_type": "code",
   "execution_count": null,
   "metadata": {},
   "outputs": [],
   "source": []
  },
  {
   "cell_type": "code",
   "execution_count": null,
   "metadata": {},
   "outputs": [],
   "source": []
  },
  {
   "cell_type": "code",
   "execution_count": null,
   "metadata": {},
   "outputs": [],
   "source": []
  },
  {
   "cell_type": "code",
   "execution_count": null,
   "metadata": {},
   "outputs": [],
   "source": []
  },
  {
   "cell_type": "code",
   "execution_count": null,
   "metadata": {},
   "outputs": [],
   "source": []
  },
  {
   "cell_type": "code",
   "execution_count": null,
   "metadata": {},
   "outputs": [],
   "source": [
    "user_retention[['2016-11','2016-12','2017-01','2017-02','2017-03','2017-04','2017-05','2017-06']].plot(figsize=(10,5))\n",
    "plt.title('Cohorts: User Retention')\n",
    "plt.ylim(0, 1.1)\n",
    "plt.ylabel('% of Cohort Purchasing')\n",
    "#plt.legend('')"
   ]
  },
  {
   "cell_type": "code",
   "execution_count": null,
   "metadata": {},
   "outputs": [],
   "source": [
    "user_retention[['2017-07','2017-08','2017-09','2017-10','2017-11','2017-12']].plot(figsize=(10,5))\n",
    "plt.title('Cohorts: User Retention')\n",
    "plt.ylim(0, 1.1)\n",
    "plt.ylabel('% of Cohort Purchasing')"
   ]
  },
  {
   "cell_type": "code",
   "execution_count": null,
   "metadata": {},
   "outputs": [],
   "source": [
    "user_retention[['2018-01','2018-02','2018-03','2018-04','2018-05','2018-06']].plot(figsize=(10,5))\n",
    "plt.title('Cohorts: User Retention')\n",
    "plt.ylim(0, 1.1)\n",
    "plt.ylabel('% of Cohort Purchasing')"
   ]
  },
  {
   "cell_type": "code",
   "execution_count": null,
   "metadata": {},
   "outputs": [],
   "source": []
  },
  {
   "cell_type": "code",
   "execution_count": null,
   "metadata": {},
   "outputs": [],
   "source": []
  },
  {
   "cell_type": "code",
   "execution_count": null,
   "metadata": {},
   "outputs": [],
   "source": []
  },
  {
   "cell_type": "code",
   "execution_count": null,
   "metadata": {},
   "outputs": [],
   "source": []
  },
  {
   "cell_type": "code",
   "execution_count": null,
   "metadata": {},
   "outputs": [],
   "source": []
  },
  {
   "cell_type": "code",
   "execution_count": null,
   "metadata": {},
   "outputs": [],
   "source": []
  },
  {
   "cell_type": "code",
   "execution_count": null,
   "metadata": {},
   "outputs": [],
   "source": []
  }
 ],
 "metadata": {
  "kernelspec": {
   "display_name": "Python 3",
   "language": "python",
   "name": "python3"
  },
  "language_info": {
   "codemirror_mode": {
    "name": "ipython",
    "version": 3
   },
   "file_extension": ".py",
   "mimetype": "text/x-python",
   "name": "python",
   "nbconvert_exporter": "python",
   "pygments_lexer": "ipython3",
   "version": "3.6.8"
  }
 },
 "nbformat": 4,
 "nbformat_minor": 2
}
